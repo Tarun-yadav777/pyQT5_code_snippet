{
 "cells": [
  {
   "cell_type": "markdown",
   "id": "a9f44713",
   "metadata": {},
   "source": [
    "### How to make gui  "
   ]
  },
  {
   "cell_type": "code",
   "execution_count": 2,
   "id": "1b007130",
   "metadata": {},
   "outputs": [],
   "source": [
    "import sys \n",
    "from PyQt5.QtWidgets import QApplication, QWidget, QPushButton\n",
    "from PyQt5.QtGui import QIcon"
   ]
  },
  {
   "cell_type": "code",
   "execution_count": 2,
   "id": "69099495",
   "metadata": {},
   "outputs": [
    {
     "data": {
      "text/plain": [
       "0"
      ]
     },
     "execution_count": 2,
     "metadata": {},
     "output_type": "execute_result"
    }
   ],
   "source": [
    "app = QApplication(sys.argv)\n",
    "\n",
    "\n",
    "window = QWidget()\n",
    "window.show()\n",
    "\n",
    "\n",
    "app.exec_()"
   ]
  },
  {
   "cell_type": "markdown",
   "id": "ebce7539",
   "metadata": {},
   "source": [
    "### Simple button in gui "
   ]
  },
  {
   "cell_type": "code",
   "execution_count": 2,
   "id": "cf9d1c7b",
   "metadata": {},
   "outputs": [
    {
     "ename": "SystemExit",
     "evalue": "0",
     "output_type": "error",
     "traceback": [
      "An exception has occurred, use %tb to see the full traceback.\n",
      "\u001b[1;31mSystemExit\u001b[0m\u001b[1;31m:\u001b[0m 0\n"
     ]
    },
    {
     "name": "stderr",
     "output_type": "stream",
     "text": [
      "C:\\Users\\tarun\\AppData\\Roaming\\Python\\Python38\\site-packages\\IPython\\core\\interactiveshell.py:3445: UserWarning: To exit: use 'exit', 'quit', or Ctrl-D.\n",
      "  warn(\"To exit: use 'exit', 'quit', or Ctrl-D.\", stacklevel=1)\n"
     ]
    }
   ],
   "source": [
    "class WindowExample(QWidget):\n",
    "    def __init__(self):\n",
    "        super().__init__()\n",
    " \n",
    "        self.setGeometry(200,200, 400,300)\n",
    "        self.setWindowTitle(\"G\")\n",
    "        self.setWindowIcon(QIcon('python.png'))\n",
    " \n",
    "        #self.setFixedHeight(400)\n",
    "        #self.setFixedWidth(300)\n",
    " \n",
    "        #self.setWindowOpacity(0.5)\n",
    "        self.setStyleSheet('background-color:green')\n",
    " \n",
    " \n",
    "        self.show()\n",
    " \n",
    " \n",
    " \n",
    " \n",
    " \n",
    "app = QApplication(sys.argv)\n",
    "window = WindowExample()\n",
    "sys.exit(app.exec_())"
   ]
  },
  {
   "cell_type": "markdown",
   "id": "f77c0e16",
   "metadata": {},
   "source": [
    "### Click action to button "
   ]
  },
  {
   "cell_type": "code",
   "execution_count": 3,
   "id": "51187b19",
   "metadata": {},
   "outputs": [
    {
     "name": "stdout",
     "output_type": "stream",
     "text": [
      "Button One Clicked\n",
      "Second Button Clicked\n",
      "Button One Clicked\n",
      "Second Button Clicked\n",
      "Button One Clicked\n"
     ]
    },
    {
     "ename": "SystemExit",
     "evalue": "0",
     "output_type": "error",
     "traceback": [
      "An exception has occurred, use %tb to see the full traceback.\n",
      "\u001b[1;31mSystemExit\u001b[0m\u001b[1;31m:\u001b[0m 0\n"
     ]
    },
    {
     "name": "stderr",
     "output_type": "stream",
     "text": [
      "C:\\Users\\tarun\\AppData\\Roaming\\Python\\Python38\\site-packages\\IPython\\core\\interactiveshell.py:3445: UserWarning: To exit: use 'exit', 'quit', or Ctrl-D.\n",
      "  warn(\"To exit: use 'exit', 'quit', or Ctrl-D.\", stacklevel=1)\n"
     ]
    }
   ],
   "source": [
    "class Window(QWidget):\n",
    "    def __init__(self):\n",
    "        super().__init__()\n",
    " \n",
    " \n",
    "        self.setGeometry(200,200, 400,300)\n",
    "        self.setWindowTitle(\"Button - Geekscoders.com\")\n",
    "        self.setWindowIcon(QIcon('python.png'))\n",
    " \n",
    "        self.create_buttons()\n",
    " \n",
    " \n",
    "        #self.show()\n",
    " \n",
    " \n",
    "    def create_buttons(self):\n",
    "        btn1 = QPushButton(\"Click Me\", self)\n",
    "        #btn1.setText(\"Our Second Text\")\n",
    "        #btn1.move(200,200)\n",
    "        btn1.setGeometry(100,100, 100,100)\n",
    "        btn1.setIcon(QIcon(\"cpp.png\"))\n",
    "        btn1.setStyleSheet('color:red')\n",
    "        btn1.setStyleSheet('background-color:green')\n",
    "        btn1.clicked.connect(self.clicked_btn)\n",
    " \n",
    "        btn2 = QPushButton(\"Click Two\", self)\n",
    "        btn2.setGeometry(200,100, 100,100)\n",
    "        btn2.setIcon(QIcon(\"pythonicon.png\"))\n",
    "        btn2.setStyleSheet('color:yellow')\n",
    "        btn2.setStyleSheet('background-color:purple')\n",
    "        btn2.clicked.connect(self.second_clicked)\n",
    " \n",
    " \n",
    "    def clicked_btn(self):\n",
    "        print(\"Button One Clicked\")\n",
    " \n",
    " \n",
    "    def second_clicked(self):\n",
    "        print(\"Second Button Clicked\")\n",
    " \n",
    " \n",
    " \n",
    "app = QApplication(sys.argv)\n",
    "window = Window()\n",
    "window.show()\n",
    "sys.exit(app.exec_())"
   ]
  },
  {
   "cell_type": "markdown",
   "id": "ffe75750",
   "metadata": {},
   "source": [
    "### Loading gui after making it from QTdesigner "
   ]
  },
  {
   "cell_type": "code",
   "execution_count": 1,
   "id": "55aad6b1",
   "metadata": {},
   "outputs": [
    {
     "name": "stdout",
     "output_type": "stream",
     "text": [
      "Button Was Clicked\n",
      "Button Was Clicked\n"
     ]
    },
    {
     "ename": "SystemExit",
     "evalue": "0",
     "output_type": "error",
     "traceback": [
      "An exception has occurred, use %tb to see the full traceback.\n",
      "\u001b[1;31mSystemExit\u001b[0m\u001b[1;31m:\u001b[0m 0\n"
     ]
    },
    {
     "name": "stderr",
     "output_type": "stream",
     "text": [
      "C:\\Users\\tarun\\AppData\\Roaming\\Python\\Python38\\site-packages\\IPython\\core\\interactiveshell.py:3445: UserWarning: To exit: use 'exit', 'quit', or Ctrl-D.\n",
      "  warn(\"To exit: use 'exit', 'quit', or Ctrl-D.\", stacklevel=1)\n"
     ]
    }
   ],
   "source": [
    "from PyQt5 import QtCore, QtGui, QtWidgets\n",
    "\n",
    "\n",
    "class Ui_Form(object):\n",
    "    def setupUi(self, Form):\n",
    "        Form.setObjectName(\"Form\")\n",
    "        Form.resize(1052, 691)\n",
    "        self.pushButton = QtWidgets.QPushButton(Form)\n",
    "        self.pushButton.setGeometry(QtCore.QRect(430, 360, 101, 51))\n",
    "        self.pushButton.setObjectName(\"pushButton\")\n",
    "        self.pushButton.clicked.connect(self.clicked_btn)\n",
    "\n",
    "        self.retranslateUi(Form)\n",
    "        QtCore.QMetaObject.connectSlotsByName(Form)\n",
    "\n",
    "    def retranslateUi(self, Form):\n",
    "        _translate = QtCore.QCoreApplication.translate\n",
    "        Form.setWindowTitle(_translate(\"Form\", \"Form\"))\n",
    "        self.pushButton.setText(_translate(\"Form\", \"Click ME\"))\n",
    "        \n",
    "\n",
    "    def clicked_btn(self):\n",
    "        print(\"Button Was Clicked\")\n",
    "\n",
    "\n",
    "if __name__ == \"__main__\":\n",
    "    import sys\n",
    "    app = QtWidgets.QApplication(sys.argv)\n",
    "    Form = QtWidgets.QWidget()\n",
    "    ui = Ui_Form()\n",
    "    ui.setupUi(Form)\n",
    "    Form.show()\n",
    "    sys.exit(app.exec_())\n"
   ]
  },
  {
   "cell_type": "code",
   "execution_count": 1,
   "id": "a06ad85f",
   "metadata": {},
   "outputs": [
    {
     "data": {
      "text/plain": [
       "0"
      ]
     },
     "execution_count": 1,
     "metadata": {},
     "output_type": "execute_result"
    }
   ],
   "source": [
    "from PyQt5.QtWidgets import QApplication, QWidget\n",
    "from PyQt5 import uic\n",
    "import sys\n",
    " \n",
    " \n",
    "class UI(QWidget):\n",
    "    def __init__(self):\n",
    "        super().__init__()\n",
    " \n",
    "        #this is used for loading ui file\n",
    "        uic.loadUi(\"mygui.ui\", self)\n",
    " \n",
    " \n",
    " \n",
    " \n",
    "app = QApplication([])\n",
    "window = UI()\n",
    "window.show()\n",
    "app.exec_()"
   ]
  },
  {
   "cell_type": "code",
   "execution_count": 1,
   "id": "e2aafbc6",
   "metadata": {},
   "outputs": [
    {
     "name": "stdout",
     "output_type": "stream",
     "text": [
      "Button Clicked\n",
      "Button Clicked\n"
     ]
    },
    {
     "data": {
      "text/plain": [
       "0"
      ]
     },
     "execution_count": 1,
     "metadata": {},
     "output_type": "execute_result"
    }
   ],
   "source": [
    "\n",
    "from PyQt5.QtWidgets import QApplication, QWidget, QPushButton\n",
    "from PyQt5 import uic\n",
    "import sys\n",
    " \n",
    " \n",
    "class UI(QWidget):\n",
    "    def __init__(self):\n",
    "        super().__init__()\n",
    " \n",
    "        #this is used for loading ui file\n",
    "        uic.loadUi(\"mygui.ui\", self)\n",
    " \n",
    "        # find our widgets\n",
    "        button = self.findChild(QPushButton, 'pushButton')\n",
    "        button.clicked.connect(self.clicked_btn)\n",
    " \n",
    "    def clicked_btn(self):\n",
    "        print(\"Button Clicked\")\n",
    " \n",
    " \n",
    "app = QApplication([])\n",
    "window = UI()\n",
    "window.show()\n",
    "app.exec_()"
   ]
  },
  {
   "cell_type": "markdown",
   "id": "7f0daa0f",
   "metadata": {},
   "source": [
    "### Layout "
   ]
  },
  {
   "cell_type": "code",
   "execution_count": 1,
   "id": "25cfbbc5",
   "metadata": {},
   "outputs": [
    {
     "ename": "SystemExit",
     "evalue": "0",
     "output_type": "error",
     "traceback": [
      "An exception has occurred, use %tb to see the full traceback.\n",
      "\u001b[1;31mSystemExit\u001b[0m\u001b[1;31m:\u001b[0m 0\n"
     ]
    },
    {
     "name": "stderr",
     "output_type": "stream",
     "text": [
      "C:\\Users\\tarun\\AppData\\Roaming\\Python\\Python38\\site-packages\\IPython\\core\\interactiveshell.py:3445: UserWarning: To exit: use 'exit', 'quit', or Ctrl-D.\n",
      "  warn(\"To exit: use 'exit', 'quit', or Ctrl-D.\", stacklevel=1)\n"
     ]
    }
   ],
   "source": [
    "\n",
    "from PyQt5.QtWidgets import QApplication,QWidget, QVBoxLayout, QPushButton\n",
    "import sys\n",
    "from PyQt5.QtGui import QIcon\n",
    " \n",
    " \n",
    " \n",
    " \n",
    "class Window(QWidget):\n",
    "    def __init__(self):\n",
    "        super().__init__()\n",
    " \n",
    " \n",
    "        #window title, icon and geometry\n",
    "        self.setGeometry(200,200, 400,300)\n",
    "        self.setWindowTitle(\"PyQt5 VBoxLayout\")\n",
    "        self.setWindowIcon(QIcon('python.png'))\n",
    " \n",
    " \n",
    "        #vboxlayout object\n",
    "        vbox = QVBoxLayout()\n",
    " \n",
    "        #creating QPushButton\n",
    "        btn1 = QPushButton(\"Click One\")\n",
    "        btn2 = QPushButton(\"Click Two\")\n",
    "        btn3 = QPushButton(\"Click Three\")\n",
    "        btn4 = QPushButton(\"Click Four\")\n",
    " \n",
    "        #add widgets in the layout\n",
    "        vbox.addWidget(btn1)\n",
    "        vbox.addWidget(btn2)\n",
    "        vbox.addWidget(btn3)\n",
    "        vbox.addWidget(btn4)\n",
    " \n",
    "        #set the layout for the main window\n",
    "        self.setLayout(vbox)\n",
    " \n",
    " \n",
    " \n",
    " \n",
    " \n",
    " \n",
    "app = QApplication(sys.argv)\n",
    "window = Window()\n",
    "window.show()\n",
    "sys.exit(app.exec_())"
   ]
  },
  {
   "cell_type": "code",
   "execution_count": 1,
   "id": "bb73f224",
   "metadata": {},
   "outputs": [
    {
     "ename": "SystemExit",
     "evalue": "0",
     "output_type": "error",
     "traceback": [
      "An exception has occurred, use %tb to see the full traceback.\n",
      "\u001b[1;31mSystemExit\u001b[0m\u001b[1;31m:\u001b[0m 0\n"
     ]
    },
    {
     "name": "stderr",
     "output_type": "stream",
     "text": [
      "C:\\Users\\tarun\\AppData\\Roaming\\Python\\Python38\\site-packages\\IPython\\core\\interactiveshell.py:3445: UserWarning: To exit: use 'exit', 'quit', or Ctrl-D.\n",
      "  warn(\"To exit: use 'exit', 'quit', or Ctrl-D.\", stacklevel=1)\n"
     ]
    }
   ],
   "source": [
    "from PyQt5.QtWidgets import QApplication,QWidget,QHBoxLayout, QPushButton\n",
    "import sys\n",
    "from PyQt5.QtGui import QIcon\n",
    " \n",
    " \n",
    " \n",
    " \n",
    "class Window(QWidget):\n",
    "    def __init__(self):\n",
    "        super().__init__()\n",
    " \n",
    "        self.setGeometry(200,200, 400,300)\n",
    "        self.setWindowTitle(\"PyQt5 HBoxLayout\")\n",
    "        self.setWindowIcon(QIcon('python.png'))\n",
    " \n",
    " \n",
    "        hbox = QHBoxLayout()\n",
    " \n",
    "        btn1 = QPushButton(\"Click One\")\n",
    "        btn2 = QPushButton(\"Click Two\")\n",
    "        btn3 = QPushButton(\"Click Three\")\n",
    "        btn4 = QPushButton(\"Click Four\")\n",
    " \n",
    "        hbox.addWidget(btn1)\n",
    "        hbox.addWidget(btn2)\n",
    "        hbox.addWidget(btn3)\n",
    "        hbox.addWidget(btn4)\n",
    " \n",
    "        self.setLayout(hbox)\n",
    " \n",
    " \n",
    " \n",
    " \n",
    "app = QApplication(sys.argv)\n",
    "window = Window()\n",
    "window.show()\n",
    "sys.exit(app.exec_())"
   ]
  },
  {
   "cell_type": "code",
   "execution_count": 1,
   "id": "5333856d",
   "metadata": {},
   "outputs": [
    {
     "ename": "SystemExit",
     "evalue": "0",
     "output_type": "error",
     "traceback": [
      "An exception has occurred, use %tb to see the full traceback.\n",
      "\u001b[1;31mSystemExit\u001b[0m\u001b[1;31m:\u001b[0m 0\n"
     ]
    },
    {
     "name": "stderr",
     "output_type": "stream",
     "text": [
      "C:\\Users\\tarun\\AppData\\Roaming\\Python\\Python38\\site-packages\\IPython\\core\\interactiveshell.py:3445: UserWarning: To exit: use 'exit', 'quit', or Ctrl-D.\n",
      "  warn(\"To exit: use 'exit', 'quit', or Ctrl-D.\", stacklevel=1)\n"
     ]
    }
   ],
   "source": [
    "\n",
    "2\n",
    "3\n",
    "4\n",
    "5\n",
    "6\n",
    "7\n",
    "8\n",
    "9\n",
    "10\n",
    "11\n",
    "12\n",
    "13\n",
    "14\n",
    "15\n",
    "16\n",
    "17\n",
    "18\n",
    "19\n",
    "20\n",
    "21\n",
    "22\n",
    "23\n",
    "24\n",
    "25\n",
    "26\n",
    "27\n",
    "28\n",
    "29\n",
    "30\n",
    "31\n",
    "32\n",
    "33\n",
    "34\n",
    "35\n",
    "36\n",
    "37\n",
    "38\n",
    "39\n",
    "40\n",
    "41\n",
    "42\n",
    "43\n",
    "44\n",
    "45\n",
    "46\n",
    "from PyQt5.QtWidgets import QApplication,QWidget, QGridLayout, QPushButton\n",
    "import sys\n",
    "from PyQt5.QtGui import QIcon\n",
    " \n",
    " \n",
    " \n",
    " \n",
    "class Window(QWidget):\n",
    "    def __init__(self):\n",
    "        super().__init__()\n",
    " \n",
    "        self.setGeometry(200,200, 400,300)\n",
    "        self.setWindowTitle(\"PyQt5 GridLayout\")\n",
    "        self.setWindowIcon(QIcon('python.png'))\n",
    " \n",
    " \n",
    "        grid = QGridLayout()\n",
    " \n",
    "        btn1 = QPushButton(\"Click One\")\n",
    "        btn2 = QPushButton(\"Click Two\")\n",
    "        btn3 = QPushButton(\"Click Three\")\n",
    "        btn4 = QPushButton(\"Click Four\")\n",
    "        btn5 = QPushButton(\"Click Five\")\n",
    "        btn6 = QPushButton(\"Click Six\")\n",
    "        btn7 = QPushButton(\"Click Seven\")\n",
    "        btn8 = QPushButton(\"Click Eight\")\n",
    " \n",
    "        grid.addWidget(btn1, 0, 0)\n",
    "        grid.addWidget(btn2, 0, 1)\n",
    "        grid.addWidget(btn3, 0, 2)\n",
    "        grid.addWidget(btn4, 0, 3)\n",
    "        grid.addWidget(btn5, 1, 0)\n",
    "        grid.addWidget(btn6, 1, 1)\n",
    "        grid.addWidget(btn7, 1, 2)\n",
    "        grid.addWidget(btn8, 1, 3)\n",
    " \n",
    "        self.setLayout(grid)\n",
    " \n",
    " \n",
    " \n",
    " \n",
    " \n",
    "app = QApplication(sys.argv)\n",
    "window = Window()\n",
    "window.show()\n",
    "sys.exit(app.exec_())"
   ]
  },
  {
   "cell_type": "markdown",
   "id": "b3770e31",
   "metadata": {},
   "source": [
    "### Label and Line Edit "
   ]
  },
  {
   "cell_type": "code",
   "execution_count": 1,
   "id": "9e2272b1",
   "metadata": {},
   "outputs": [
    {
     "name": "stdout",
     "output_type": "stream",
     "text": [
      "Tarun \n"
     ]
    },
    {
     "ename": "SystemExit",
     "evalue": "0",
     "output_type": "error",
     "traceback": [
      "An exception has occurred, use %tb to see the full traceback.\n",
      "\u001b[1;31mSystemExit\u001b[0m\u001b[1;31m:\u001b[0m 0\n"
     ]
    },
    {
     "name": "stderr",
     "output_type": "stream",
     "text": [
      "C:\\Users\\tarun\\AppData\\Roaming\\Python\\Python38\\site-packages\\IPython\\core\\interactiveshell.py:3445: UserWarning: To exit: use 'exit', 'quit', or Ctrl-D.\n",
      "  warn(\"To exit: use 'exit', 'quit', or Ctrl-D.\", stacklevel=1)\n"
     ]
    }
   ],
   "source": [
    "from PyQt5 import QtCore, QtGui, QtWidgets\n",
    "from PyQt5.QtGui import QFont\n",
    "\n",
    "\n",
    "class Ui_Form(object):\n",
    "    def setupUi(self, Form):\n",
    "        Form.setObjectName(\"Form\")\n",
    "        Form.resize(798, 630)\n",
    "        self.verticalLayout = QtWidgets.QVBoxLayout(Form)\n",
    "        self.verticalLayout.setObjectName(\"verticalLayout\")\n",
    "        self.horizontalLayout = QtWidgets.QHBoxLayout()\n",
    "        self.horizontalLayout.setObjectName(\"horizontalLayout\")\n",
    "        self.labelName = QtWidgets.QLabel(Form)\n",
    "        self.labelName.setObjectName(\"labelName\")\n",
    "        self.horizontalLayout.addWidget(self.labelName)\n",
    "        self.lineEdit = QtWidgets.QLineEdit(Form)\n",
    "        self.lineEdit.setObjectName(\"lineEdit\")\n",
    "        self.horizontalLayout.addWidget(self.lineEdit)\n",
    "        self.verticalLayout.addLayout(self.horizontalLayout)\n",
    "        self.horizontalLayout_2 = QtWidgets.QHBoxLayout()\n",
    "        self.horizontalLayout_2.setObjectName(\"horizontalLayout_2\")\n",
    "        self.labelResult = QtWidgets.QLabel(Form)\n",
    "        self.labelResult.setObjectName(\"labelResult\")\n",
    "        self.labelResult.setFont(QFont(\"Sanserif\", 15))\n",
    "        self.labelResult.setStyleSheet('background-color:yellow')\n",
    "        self.labelResult.setStyleSheet('color:red')\n",
    "        \n",
    "        self.horizontalLayout_2.addWidget(self.labelResult)\n",
    "        self.pushButton = QtWidgets.QPushButton(Form)\n",
    "        self.pushButton.setObjectName(\"pushButton\")\n",
    "        self.pushButton.clicked.connect(self.click_btn)\n",
    "        self.horizontalLayout_2.addWidget(self.pushButton)\n",
    "        self.verticalLayout.addLayout(self.horizontalLayout_2)\n",
    "\n",
    "        self.retranslateUi(Form)\n",
    "        QtCore.QMetaObject.connectSlotsByName(Form)\n",
    "\n",
    "    def retranslateUi(self, Form):\n",
    "        _translate = QtCore.QCoreApplication.translate\n",
    "        Form.setWindowTitle(_translate(\"Form\", \"Form\"))\n",
    "        self.labelName.setText(_translate(\"Form\", \"Name\"))\n",
    "        self.labelResult.setText(_translate(\"Form\", \"TextLabel\"))\n",
    "        self.pushButton.setText(_translate(\"Form\", \"Click\"))\n",
    "        \n",
    "    def click_btn(self):\n",
    "        name = self.lineEdit.text()\n",
    "        self.labelResult.setText(name)\n",
    "        print(name)\n",
    "\n",
    "\n",
    "if __name__ == \"__main__\":\n",
    "    import sys\n",
    "    app = QtWidgets.QApplication(sys.argv)\n",
    "    Form = QtWidgets.QWidget()\n",
    "    ui = Ui_Form()\n",
    "    ui.setupUi(Form)\n",
    "    Form.show()\n",
    "    sys.exit(app.exec_())\n"
   ]
  },
  {
   "cell_type": "markdown",
   "id": "7016c273",
   "metadata": {},
   "source": [
    "### Radio Button "
   ]
  },
  {
   "cell_type": "code",
   "execution_count": 1,
   "id": "88948d8a",
   "metadata": {},
   "outputs": [
    {
     "ename": "SystemExit",
     "evalue": "0",
     "output_type": "error",
     "traceback": [
      "An exception has occurred, use %tb to see the full traceback.\n",
      "\u001b[1;31mSystemExit\u001b[0m\u001b[1;31m:\u001b[0m 0\n"
     ]
    },
    {
     "name": "stderr",
     "output_type": "stream",
     "text": [
      "C:\\Users\\tarun\\AppData\\Roaming\\Python\\Python38\\site-packages\\IPython\\core\\interactiveshell.py:3445: UserWarning: To exit: use 'exit', 'quit', or Ctrl-D.\n",
      "  warn(\"To exit: use 'exit', 'quit', or Ctrl-D.\", stacklevel=1)\n"
     ]
    }
   ],
   "source": [
    "from PyQt5.QtWidgets import QApplication,QDialog, QGroupBox,\\\n",
    "    QHBoxLayout,QLabel ,QVBoxLayout, QRadioButton\n",
    "import sys\n",
    "from PyQt5.QtGui import QIcon, QFont\n",
    "from PyQt5.QtCore import QSize\n",
    " \n",
    " \n",
    " \n",
    " \n",
    "class Window(QDialog):\n",
    "    def __init__(self):\n",
    "        super().__init__()\n",
    " \n",
    "        #winow requirement\n",
    "        self.setGeometry(200,200, 400,300)\n",
    "        self.setWindowTitle(\"PyQt5 QRadioButton\")\n",
    "        self.setWindowIcon(QIcon('python.png'))\n",
    " \n",
    "        #our method call\n",
    "        self.create_radiobutton()\n",
    " \n",
    "        #we need to create vertical layout\n",
    "        vbox = QVBoxLayout()\n",
    "        vbox.addWidget(self.groupbox)\n",
    " \n",
    "        #this is our label\n",
    "        self.label = QLabel(\"\")\n",
    "        self.label.setFont(QFont(\"Sanserif\", 14))\n",
    " \n",
    "        #add your widgets in the vbox layout\n",
    "        vbox.addWidget(self.label)\n",
    " \n",
    " \n",
    "        #set your main window layout\n",
    "        self.setLayout(vbox)\n",
    " \n",
    " \n",
    " \n",
    " \n",
    "    def create_radiobutton(self):\n",
    " \n",
    "        #this is our groupbox\n",
    "        self.groupbox = QGroupBox(\"What is your favorite sport ?\")\n",
    "        self.groupbox.setFont(QFont(\"Sanserif\", 15))\n",
    " \n",
    " \n",
    "        #this is hbox layout\n",
    "        hbox = QHBoxLayout()\n",
    " \n",
    "        #these are the radiobuttons\n",
    "        self.rad1 = QRadioButton(\"Football\")\n",
    "        self.rad1.setChecked(True)\n",
    "        self.rad1.setIcon(QIcon('football.png'))\n",
    "        self.rad1.setIconSize(QSize(60,60))\n",
    "        self.rad1.setFont(QFont(\"Sanserif\", 14))\n",
    "        self.rad1.toggled.connect(self.on_selected)\n",
    "        hbox.addWidget(self.rad1)\n",
    " \n",
    "        self.rad2 = QRadioButton(\"Cricket\")\n",
    "        self.rad2.setIcon(QIcon('cricket.png'))\n",
    "        self.rad2.setIconSize(QSize(60, 60))\n",
    "        self.rad2.setFont(QFont(\"Sanserif\", 14))\n",
    "        self.rad2.toggled.connect(self.on_selected)\n",
    "        hbox.addWidget(self.rad2)\n",
    " \n",
    "        self.rad3 = QRadioButton(\"Tennis\")\n",
    "        self.rad3.setIcon(QIcon('tennis.png'))\n",
    "        self.rad3.setIconSize(QSize(60, 60))\n",
    "        self.rad3.setFont(QFont(\"Sanserif\", 14))\n",
    "        self.rad3.toggled.connect(self.on_selected)\n",
    "        hbox.addWidget(self.rad3)\n",
    " \n",
    " \n",
    " \n",
    " \n",
    "        self.groupbox.setLayout(hbox)\n",
    " \n",
    " \n",
    " \n",
    " \n",
    "    #method or slot for the toggled signal\n",
    "    def on_selected(self):\n",
    "        radio_button = self.sender()\n",
    " \n",
    "        if radio_button.isChecked():\n",
    "            self.label.setText(\"You have selected : \" + radio_button.text())\n",
    " \n",
    " \n",
    " \n",
    " \n",
    "app = QApplication(sys.argv)\n",
    "window = Window()\n",
    "window.show()\n",
    "sys.exit(app.exec_())"
   ]
  },
  {
   "cell_type": "code",
   "execution_count": 1,
   "id": "523c1af4",
   "metadata": {},
   "outputs": [
    {
     "ename": "SystemExit",
     "evalue": "0",
     "output_type": "error",
     "traceback": [
      "An exception has occurred, use %tb to see the full traceback.\n",
      "\u001b[1;31mSystemExit\u001b[0m\u001b[1;31m:\u001b[0m 0\n"
     ]
    },
    {
     "name": "stderr",
     "output_type": "stream",
     "text": [
      "C:\\Users\\tarun\\AppData\\Roaming\\Python\\Python38\\site-packages\\IPython\\core\\interactiveshell.py:3445: UserWarning: To exit: use 'exit', 'quit', or Ctrl-D.\n",
      "  warn(\"To exit: use 'exit', 'quit', or Ctrl-D.\", stacklevel=1)\n"
     ]
    }
   ],
   "source": [
    "from PyQt5 import QtCore, QtGui, QtWidgets\n",
    "from PyQt5.QtWidgets import QDialog\n",
    "from PyQt5.QtGui import QIcon\n",
    "from PyQt5.QtCore import QSize\n",
    "\n",
    "\n",
    "class Ui_Dialog(QDialog):\n",
    "    def setupUi(self, Dialog):\n",
    "        Dialog.setObjectName(\"Dialog\")\n",
    "        Dialog.resize(506, 212)\n",
    "        self.verticalLayout_2 = QtWidgets.QVBoxLayout(Dialog)\n",
    "        self.verticalLayout_2.setObjectName(\"verticalLayout_2\")\n",
    "        self.verticalLayout = QtWidgets.QVBoxLayout()\n",
    "        self.verticalLayout.setObjectName(\"verticalLayout\")\n",
    "        self.groupBox = QtWidgets.QGroupBox(Dialog)\n",
    "        font = QtGui.QFont()\n",
    "        font.setPointSize(14)\n",
    "        font.setBold(True)\n",
    "        font.setWeight(75)\n",
    "        self.groupBox.setFont(font)\n",
    "        self.groupBox.setObjectName(\"groupBox\")\n",
    "        self.horizontalLayoutWidget = QtWidgets.QWidget(self.groupBox)\n",
    "        self.horizontalLayoutWidget.setGeometry(QtCore.QRect(10, 20, 401, 81))\n",
    "        self.horizontalLayoutWidget.setObjectName(\"horizontalLayoutWidget\")\n",
    "        self.horizontalLayout = QtWidgets.QHBoxLayout(self.horizontalLayoutWidget)\n",
    "        self.horizontalLayout.setContentsMargins(0, 0, 0, 0)\n",
    "        self.horizontalLayout.setObjectName(\"horizontalLayout\")\n",
    "        self.radioButton_3 = QtWidgets.QRadioButton(self.horizontalLayoutWidget)\n",
    "        self.radioButton_3.setObjectName(\"radioButton_3\")\n",
    "        self.radioButton_3.setIcon(QIcon('football.png'))\n",
    "        self.radioButton_3.setIconSize(QSize(40, 40))\n",
    "        self.radioButton_3.toggled.connect(self.on_selected)\n",
    " \n",
    "        self.horizontalLayout.addWidget(self.radioButton_3)\n",
    "        self.radioButton_2 = QtWidgets.QRadioButton(self.horizontalLayoutWidget)\n",
    "        self.radioButton_2.setObjectName(\"radioButton_2\")\n",
    "        self.horizontalLayout.addWidget(self.radioButton_2)\n",
    "        self.radioButton_2.setIcon(QIcon('cricket.png'))\n",
    "        self.radioButton_2.setIconSize(QSize(40, 40))\n",
    "        self.radioButton_2.toggled.connect(self.on_selected)\n",
    " \n",
    "        self.radioButton = QtWidgets.QRadioButton(self.horizontalLayoutWidget)\n",
    "        self.radioButton.setObjectName(\"radioButton\")\n",
    "        self.radioButton.setIcon(QIcon('tennis.png'))\n",
    "        self.radioButton.setIconSize(QSize(40, 40))\n",
    "        self.radioButton.toggled.connect(self.on_selected)\n",
    " \n",
    "        self.horizontalLayout.addWidget(self.radioButton)\n",
    "        self.label = QtWidgets.QLabel(self.groupBox)\n",
    "        self.label.setGeometry(QtCore.QRect(20, 80, 419, 77))\n",
    "        self.label.setObjectName(\"label\")\n",
    "        self.verticalLayout.addWidget(self.groupBox)\n",
    "        self.verticalLayout_2.addLayout(self.verticalLayout)\n",
    " \n",
    "        self.retranslateUi(Dialog)\n",
    "        QtCore.QMetaObject.connectSlotsByName(Dialog)\n",
    " \n",
    "    def retranslateUi(self, Dialog):\n",
    "        _translate = QtCore.QCoreApplication.translate\n",
    "        Dialog.setWindowTitle(_translate(\"Dialog\", \n",
    "\"PyQt5 QRadioButton & QGroupBox\"))\n",
    "        self.groupBox.setTitle(_translate(\"Dialog\", \n",
    "\"What is your favorite sport ?\"))\n",
    "        self.radioButton_3.setText(_translate(\"Dialog\", \"Football\"))\n",
    "        self.radioButton_2.setText(_translate(\"Dialog\", \"Cricket\"))\n",
    "        self.radioButton.setText(_translate(\"Dialog\", \"Tennis\"))\n",
    "        self.label.setText(_translate(\"Dialog\", \"TextLabel\"))\n",
    " \n",
    "    def on_selected(self):\n",
    "        radio_button = self.sender()\n",
    " \n",
    "        if radio_button.isChecked():\n",
    "            self.label.setText(\"You have selected : \" + radio_button.text())\n",
    " \n",
    " \n",
    "if __name__ == \"__main__\":\n",
    "    import sys\n",
    "    app = QtWidgets.QApplication(sys.argv)\n",
    "    Dialog = QtWidgets.QDialog()\n",
    "    ui = Ui_Dialog()\n",
    "    ui.setupUi(Dialog)\n",
    "    Dialog.show()\n",
    "    sys.exit(app.exec_())"
   ]
  },
  {
   "cell_type": "code",
   "execution_count": null,
   "id": "4fcc8590",
   "metadata": {},
   "outputs": [],
   "source": []
  }
 ],
 "metadata": {
  "kernelspec": {
   "display_name": "Python 3",
   "language": "python",
   "name": "python3"
  },
  "language_info": {
   "codemirror_mode": {
    "name": "ipython",
    "version": 3
   },
   "file_extension": ".py",
   "mimetype": "text/x-python",
   "name": "python",
   "nbconvert_exporter": "python",
   "pygments_lexer": "ipython3",
   "version": "3.8.3"
  }
 },
 "nbformat": 4,
 "nbformat_minor": 5
}
